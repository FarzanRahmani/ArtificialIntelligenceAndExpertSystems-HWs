{
 "cells": [
  {
   "cell_type": "markdown",
   "metadata": {
    "collapsed": false,
    "pycharm": {
     "name": "#%% md\n"
    }
   },
   "source": [
    "## Imports"
   ]
  },
  {
   "cell_type": "code",
   "execution_count": 1,
   "metadata": {
    "collapsed": false,
    "pycharm": {
     "name": "#%%\n"
    }
   },
   "outputs": [],
   "source": [
    "import os\n",
    "import json\n",
    "import numpy as np\n",
    "import matplotlib.pyplot as plt"
   ]
  },
  {
   "cell_type": "code",
   "execution_count": 2,
   "metadata": {
    "collapsed": false,
    "pycharm": {
     "name": "#%%\n"
    }
   },
   "outputs": [],
   "source": [
    "IN_PATH = \".\\inputs\"\n",
    "OUT_PATH = \".\\outputs\""
   ]
  },
  {
   "cell_type": "markdown",
   "metadata": {
    "collapsed": false,
    "pycharm": {
     "name": "#%% md\n"
    }
   },
   "source": [
    "## Utility Functions"
   ]
  },
  {
   "cell_type": "code",
   "execution_count": 3,
   "metadata": {
    "collapsed": false,
    "pycharm": {
     "name": "#%%\n"
    }
   },
   "outputs": [],
   "source": [
    "def find_dependence(graph, graph2, is_ancestor, evidence, node1, node2):\n",
    "    path = [[node1, True]]\n",
    "    dependent_nodes = [False] * len(graph)\n",
    "    visited = [False] * (2 * len(graph))\n",
    "    while len(path) != 0:\n",
    "        node, direction = path.pop()\n",
    "        if direction:\n",
    "            visited_index = node + len(graph)\n",
    "        else:\n",
    "            visited_index = node\n",
    "        if not visited[visited_index]:\n",
    "            visited[visited_index] = True\n",
    "            if evidence[node] == -1:\n",
    "                dependent_nodes[node] = True\n",
    "            else:\n",
    "                dependent_nodes[node] = False\n",
    "            if direction and evidence[node] == -1:\n",
    "                for k in graph2[node]:\n",
    "                    path.append([k, True])\n",
    "                for k in graph[node]:\n",
    "                    path.append([k, False])\n",
    "            if not direction:\n",
    "                if evidence[node] == -1:\n",
    "                    for k in graph[node]:\n",
    "                        path.append([k, False])\n",
    "                if is_ancestor[node]:\n",
    "                    for k in graph2[node]:\n",
    "                        path.append([k, True])\n",
    "    return dependent_nodes[node2]"
   ]
  },
  {
   "cell_type": "code",
   "execution_count": 4,
   "metadata": {
    "collapsed": false,
    "pycharm": {
     "name": "#%%\n"
    }
   },
   "outputs": [],
   "source": [
    "def mult(cpt1, cpt2):\n",
    "    cpt = []\n",
    "    keys1 = cpt1[0].keys()\n",
    "    keys2 = cpt2[0].keys()\n",
    "    share_keys = []\n",
    "    not_share_keys = []\n",
    "    for key in keys1:\n",
    "        if key in keys2 and key != 'Prob':\n",
    "            share_keys.append(key)\n",
    "        else:\n",
    "            not_share_keys.append(key)\n",
    "    for row1 in cpt1:\n",
    "        for row2 in cpt2:\n",
    "            flag = 1\n",
    "            for key in share_keys:\n",
    "                if row1[key] != row2[key]:\n",
    "                    flag = 0\n",
    "            if flag == 0:\n",
    "                continue\n",
    "            new_row = row2.copy()\n",
    "            for key in not_share_keys:\n",
    "                if key != 'Prob':\n",
    "                    new_row[key] = row1[key]\n",
    "                else:\n",
    "                    new_row['Prob'] = row1['Prob'] * row2['Prob']\n",
    "            cpt.append(new_row)\n",
    "    return cpt"
   ]
  },
  {
   "cell_type": "code",
   "execution_count": 5,
   "metadata": {
    "collapsed": false,
    "pycharm": {
     "name": "#%%\n"
    }
   },
   "outputs": [],
   "source": [
    "def find_joint(probability):\n",
    "    cpt = probability[0]\n",
    "    for i in range(1, len(probability)):\n",
    "        cpt = mult(cpt, probability[i])\n",
    "    return cpt"
   ]
  },
  {
   "cell_type": "code",
   "execution_count": 6,
   "metadata": {
    "collapsed": false,
    "pycharm": {
     "name": "#%%\n"
    }
   },
   "outputs": [],
   "source": [
    "def elimination(joint, node):\n",
    "    del_cpt = []\n",
    "    id_tracker = {}\n",
    "    for row2 in joint:\n",
    "        row = row2.copy()\n",
    "        id_string = \"\"\n",
    "        for key in row.keys():\n",
    "            if key == node or key == \"Prob\":\n",
    "                continue\n",
    "            if row[key]:\n",
    "                id_string += \"T\"\n",
    "            else:\n",
    "                id_string += \"F\"\n",
    "        if id_string in id_tracker.keys():\n",
    "            id_tracker[id_string]['Prob'] += row['Prob']\n",
    "        else:\n",
    "            id_tracker[id_string] = row\n",
    "    for key in id_tracker.keys():\n",
    "        row = id_tracker[key]\n",
    "        del row[node]\n",
    "        del_cpt.append(row.copy())\n",
    "    return del_cpt"
   ]
  },
  {
   "cell_type": "code",
   "execution_count": 16,
   "metadata": {
    "collapsed": false,
    "pycharm": {
     "name": "#%%\n"
    }
   },
   "outputs": [],
   "source": [
    "def variable_elimination(evidence, nodes, probability, values):\n",
    "    new_probability = probability\n",
    "    for i in range(len(probability)):\n",
    "        if i in nodes or evidence[i] != -1:\n",
    "            continue\n",
    "        after_joint_prob = []\n",
    "        joint_prob = []\n",
    "        for cpt in new_probability:\n",
    "            if i in cpt[0].keys():\n",
    "                joint_prob.append(cpt)\n",
    "            else:\n",
    "                after_joint_prob.append(cpt)\n",
    "        joint = find_joint(joint_prob)\n",
    "        new_probability = after_joint_prob\n",
    "        new_probability.append(elimination(joint, i))\n",
    "    final_joint = find_joint(new_probability)\n",
    "    sum_prob = 0\n",
    "    holder = 0\n",
    "    for joint in final_joint:\n",
    "        sum_prob += joint['Prob']\n",
    "        flag = 1\n",
    "        for k in range(len(nodes)):\n",
    "            if joint[nodes[k]] != bool(values[k]):\n",
    "                flag = 0\n",
    "                break\n",
    "        if flag == 1:\n",
    "            holder = joint['Prob']\n",
    "    return holder / sum_prob"
   ]
  },
  {
   "cell_type": "code",
   "execution_count": 7,
   "metadata": {
    "collapsed": false,
    "pycharm": {
     "name": "#%%\n"
    }
   },
   "outputs": [],
   "source": [
    "def topological_sort_util(v, visited, stack, graph):\n",
    "    visited[v] = True\n",
    "    for i in graph[v]:\n",
    "        if not visited[i]:\n",
    "            topological_sort_util(i, visited, stack, graph)\n",
    "\n",
    "    stack.append(v)\n",
    "\n",
    "def topological_sort(graph):\n",
    "    visited = [False] * len(graph)\n",
    "    stack = []\n",
    "\n",
    "    for i in range(len(graph)):\n",
    "        if not visited[i]:\n",
    "            topological_sort_util(i, visited, stack, graph)\n",
    "    return stack[::-1] # reverse the stack"
   ]
  },
  {
   "cell_type": "code",
   "execution_count": 8,
   "metadata": {
    "collapsed": false,
    "pycharm": {
     "name": "#%%\n"
    }
   },
   "outputs": [],
   "source": [
    "def sample_vertex(node, father, values, sort_vertex, probability):\n",
    "    # node = vertex to be sampled\n",
    "    # father = father of the vertex (parents)\n",
    "    # values = sample\n",
    "    # sort_vertex = topological sort of the graph\n",
    "    # probability = probability of the graph (array of CPTs)\n",
    "    cpt = probability[node]\n",
    "    holder_row = {} # row of the CPT to be sampled that is consistent with the privious sampled values\n",
    "    for row in cpt: # row = {0: True, Prob: 0.1, 1: True, 2: True}\n",
    "        flag = 1\n",
    "        for key in row.keys():\n",
    "            if key != 'Prob' and values[key] != -1 and row[key] != values[key]: # this node has already been sampled (notice that parents are already sampled beacuse we are doing topological sort)\n",
    "                flag = 0\n",
    "                break\n",
    "        if flag == 1: # this row is the one we want to sample (this row is consistent with the sampled values (parents)) # P(Xi | parents(Xi))\n",
    "            holder_row = row.copy()\n",
    "            break\n",
    "    x = holder_row['Prob']\n",
    "    random = np.random.random() # random number between 0 and 1\n",
    "    if random < x: # sample the vertex ( [0,x): True , [x,1): False ]  )\n",
    "        return True\n",
    "    return False"
   ]
  },
  {
   "cell_type": "code",
   "execution_count": 9,
   "metadata": {
    "collapsed": false,
    "pycharm": {
     "name": "#%%\n"
    }
   },
   "outputs": [],
   "source": [
    "def draw_plot(prior, reject, likelihood, gibbs, string_data, num):\n",
    "    X = [1, 2, 3, 4, 5, 6, 7]\n",
    "    # prior = [0.1, 0.2, 0.3, 0.4, 0.5, 0.6, 0.7] (array of prior absolute error)\n",
    "    # reject (array of rejection absolute error)\n",
    "    # likelihood (array of likelihood absolute error)\n",
    "    # gibbs (array of gibbs absolute error)\n",
    "\n",
    "    # Plotting both the curves simultaneously\n",
    "    plt.plot(X, prior, color='r', label='Prior')\n",
    "    plt.plot(X, reject, color='g', label='Rejection')\n",
    "    plt.plot(X, likelihood, color='b', label='Likelihood')\n",
    "    plt.plot(X, gibbs, color='y', label='Gibbs')\n",
    "\n",
    "    plt.xlabel(\"#Q\") # X-axis label (number of query)\n",
    "    plt.ylabel(\"AE\") # Y-axis label (absolute error)\n",
    "    plt.title(string_data)\n",
    "    plt.legend()\n",
    "    path = OUT_PATH\n",
    "    path = os.path.join(path, str(num) + \".png\")\n",
    "    plt.savefig(path)\n",
    "    plt.show()"
   ]
  },
  {
   "cell_type": "markdown",
   "metadata": {
    "collapsed": false,
    "pycharm": {
     "name": "#%% md\n"
    }
   },
   "source": [
    "## Real Value"
   ]
  },
  {
   "cell_type": "code",
   "execution_count": 10,
   "metadata": {
    "collapsed": false,
    "pycharm": {
     "name": "#%%\n"
    }
   },
   "outputs": [],
   "source": [
    "def real_value(evidence, probability, nodes, values, graph3):\n",
    "    new_probability = []\n",
    "    for i in range(len(probability)):\n",
    "        cpt = []\n",
    "        for row in probability[i]:\n",
    "            if row[i] != evidence[i] and evidence[i] != -1:\n",
    "                continue\n",
    "            flag = 1\n",
    "            for j in graph3[i]:\n",
    "                if row[j] != evidence[j] and evidence[j] != -1:\n",
    "                    flag = 0\n",
    "            if flag:\n",
    "                cpt.append(row)\n",
    "        new_probability.append(cpt)\n",
    "    return variable_elimination(evidence.copy(), nodes, new_probability.copy(), values)"
   ]
  },
  {
   "cell_type": "markdown",
   "metadata": {
    "collapsed": false,
    "pycharm": {
     "name": "#%% md\n"
    }
   },
   "source": [
    "## 1. Prior Sampling"
   ]
  },
  {
   "cell_type": "code",
   "execution_count": 11,
   "metadata": {
    "collapsed": false,
    "pycharm": {
     "name": "#%%\n"
    }
   },
   "outputs": [],
   "source": [
    "def prior_sample(evidence, nodes, values, probability, n, graph, graph2):\n",
    "    # evidence = array of bools (True/False) or -1 (unknown) for each node\n",
    "    # nodes = array of nodes to query\n",
    "    # values = array of bools (True/False) for each query node\n",
    "    # probability = array of CPTs for each node\n",
    "    # CPT = array of dicts (each dict is a row in the CPT) (CPT[0] = {2:True ,'Prob': 0.5, 0: True, 1: True})\n",
    "    # n = number of nodes\n",
    "    # graph = node --> children (graph1[0] = [1, 2])\n",
    "    # graph2 = node --> parents (graph2[0] = [1, 2])\n",
    "    \n",
    "    sort_vertex = topological_sort(graph)\n",
    "    samples = []\n",
    "    for i in range(10000):\n",
    "        value = [-1] * n # (sample) array of bools (True/False) or -1 (unknown) for each node (values of each node in sample)\n",
    "        for vertex in sort_vertex: # in topological order\n",
    "            value[vertex] = sample_vertex(vertex, graph2[vertex], value, sort_vertex, probability) # sample the vertex (value[vertex] = True/False)\n",
    "        flag = 1\n",
    "        for j in range(len(evidence)):\n",
    "            if evidence[j] != -1 and value[j] != evidence[j]: # if evidence is known and not equal to sample (not consistent with evidence)\n",
    "                flag = 0\n",
    "                break\n",
    "        if flag == 1: # if consistent with evidence \n",
    "            samples.append(value)\n",
    "    good_sample = 0 # number of samples that are consistent with query\n",
    "    for sample in samples:\n",
    "        flag = 1\n",
    "        for i in range(len(nodes)): # check if sample is consistent with query\n",
    "            if bool(values[i]) != sample[nodes[i]]:\n",
    "                flag = 0\n",
    "                break\n",
    "        if flag == 1:\n",
    "            good_sample += 1\n",
    "    return good_sample / len(samples)"
   ]
  },
  {
   "cell_type": "markdown",
   "metadata": {
    "collapsed": false,
    "pycharm": {
     "name": "#%% md\n"
    }
   },
   "source": [
    "## 2. Rejection Sampling"
   ]
  },
  {
   "cell_type": "code",
   "execution_count": 12,
   "metadata": {
    "collapsed": false,
    "pycharm": {
     "name": "#%%\n"
    }
   },
   "outputs": [],
   "source": [
    "def rejection_sample(evidence, nodes, values, probability, n, graph, graph2):\n",
    "    # evidence = array of bools (True/False) or -1 (unknown) for each node\n",
    "    # nodes = array of nodes to query\n",
    "    # values = array of bools (True/False) for each query node\n",
    "    # probability = array of CPTs for each node\n",
    "    # CPT = array of dicts (each dict is a row in the CPT) (CPT[0] = {2:True, 'Prob': 0.5, 0: True, 1: True})\n",
    "    # n = number of nodes\n",
    "    # graph = node --> children (graph1[0] = [1, 2])\n",
    "    # graph2 = node --> parents (graph2[0] = [1, 2])\n",
    "    \n",
    "    sort_vertex = topological_sort(graph)\n",
    "    samples = []\n",
    "    for i in range(10000):\n",
    "        value = [-1] * n\n",
    "        flag = 1\n",
    "        for vertex in sort_vertex:\n",
    "            holder = sample_vertex(vertex, graph2[vertex], value, sort_vertex, probability)\n",
    "            if evidence[vertex] != -1 and holder != evidence[vertex]: # if evidence is known and not equal to sample (not consistent with evidence)\n",
    "                flag = 0 # reject it\n",
    "                break\n",
    "            value[vertex] = holder\n",
    "        if flag == 1:\n",
    "            samples.append(value)\n",
    "    good_sample = 0\n",
    "    for sample in samples:\n",
    "        flag = 1\n",
    "        for i in range(len(nodes)):\n",
    "            if bool(values[i]) != sample[nodes[i]]:\n",
    "                flag = 0\n",
    "                break\n",
    "        if flag == 1:\n",
    "            good_sample += 1\n",
    "    return good_sample / len(samples)"
   ]
  },
  {
   "cell_type": "markdown",
   "metadata": {
    "collapsed": false,
    "pycharm": {
     "name": "#%% md\n"
    }
   },
   "source": [
    "## 3. Likelihood Sampling"
   ]
  },
  {
   "cell_type": "code",
   "execution_count": 17,
   "metadata": {
    "collapsed": false,
    "pycharm": {
     "name": "#%%\n"
    }
   },
   "outputs": [],
   "source": [
    "def find_row(cpt, values):\n",
    "    # cpt = array of dicts (each dict is a row in the CPT) (CPT[0] = {2:True, 'Prob': 0.5, 0: True, 1: True})\n",
    "    # values = partial sample (array of bools (True/False) or -1 (unknown) for each node)\n",
    "    holder_row = {} # row in CPT that is consistent with values\n",
    "    for row in cpt: # {2:True, 'Prob': 0.5, 0: True, 1: True}\n",
    "        flag = 1\n",
    "        for key in row.keys():\n",
    "            if key != 'Prob' and values[key] != -1 and row[key] != values[key]: # if value is known and not equal to row (not consistent with values) # Xi | parents(Xi) \n",
    "                flag = 0 \n",
    "                break\n",
    "        if flag == 1: # this row is the one we want to sample (this row is consistent with the sampled values (parents)) # P(Xi | parents(Xi))\n",
    "            holder_row = row.copy()\n",
    "            break\n",
    "    return holder_row['Prob']"
   ]
  },
  {
   "cell_type": "code",
   "execution_count": 18,
   "metadata": {
    "collapsed": false,
    "pycharm": {
     "name": "#%%\n"
    }
   },
   "outputs": [],
   "source": [
    "def likelihood_sample(evidence, nodes, values, probability, n, graph, graph2):\n",
    "    # evidence = array of bools (True/False) or -1 (unknown) for each node\n",
    "    # nodes = array of nodes to query\n",
    "    # values = array of bools (True/False) for each query node\n",
    "    # probability = array of CPTs for each node\n",
    "    # CPT = array of dicts (each dict is a row in the CPT) (CPT[0] = {2:True, 'Prob': 0.5, 0: True, 1: True})\n",
    "    # n = number of nodes\n",
    "    # graph = node --> children (graph1[0] = [1, 2])\n",
    "    # graph2 = node --> parents (graph2[0] = [1, 2])\n",
    "    \n",
    "    sort_vertex = topological_sort(graph) # topological sort\n",
    "    samples = [] # array of samples\n",
    "    for i in range(10000):\n",
    "        value = [-1] * n # (sample) array of bools (True/False) or -1 (unknown) for each node (values of each node in sample)\n",
    "        w = 1 # weight of sample\n",
    "        for vertex in sort_vertex: # for i=1, 2, …, n in topological order\n",
    "            if evidence[vertex] == -1: #  is not an evidence variable\n",
    "                value[vertex] = sample_vertex(vertex, graph2[vertex], value, sort_vertex, probability)\n",
    "            else: #  is an evidence variable\n",
    "                value[vertex] = evidence[vertex]\n",
    "                w *= find_row(probability[vertex], value) # w = w * P(xi | parents(Xi))\n",
    "        samples.append([value, w])\n",
    "    good_sample = 0\n",
    "    sum_sample = 0\n",
    "    for sample in samples:\n",
    "        flag = 1\n",
    "        for i in range(len(nodes)): # check if sample is consistent with query\n",
    "            if bool(values[i]) != sample[0][nodes[i]]:\n",
    "                flag = 0\n",
    "                break\n",
    "        sum_sample += sample[1] # sum of weights\n",
    "        if flag == 1: # if consistent with query\n",
    "            good_sample += sample[1] # add weight to good_sample (sum of weights of consistent samples)\n",
    "    return good_sample / sum_sample # return average weight of consistent samples"
   ]
  },
  {
   "cell_type": "markdown",
   "metadata": {
    "collapsed": false,
    "pycharm": {
     "name": "#%% md\n"
    }
   },
   "source": [
    "## 4. Gibbs Sampling"
   ]
  },
  {
   "cell_type": "code",
   "execution_count": 15,
   "metadata": {
    "collapsed": false,
    "pycharm": {
     "name": "#%%\n"
    }
   },
   "outputs": [],
   "source": [
    "def gibbs_sample(evidence, nodes, values, probability, n, graph, graph2):\n",
    "    # evidence = array of bools (True/False) or -1 (unknown) for each node\n",
    "    # nodes = array of nodes to query\n",
    "    # values = array of bools (True/False) for each query node\n",
    "    # probability = array of CPTs for each node\n",
    "    # CPT = array of dicts (each dict is a row in the CPT) (CPT[0] = {2:True, 'Prob': 0.5, 0: True, 1: True})\n",
    "    # n = number of nodes\n",
    "    # graph = node --> children (graph1[0] = [1, 2])\n",
    "    # graph2 = node --> parents (graph2[0] = [1, 2])\n",
    "    \n",
    "    sort_vertex = topological_sort(graph) # topological sort\n",
    "    samples = []  # array of samples\n",
    "    value = [-1] * n # (sample) array of bools (True/False) or -1 (unknown) for each node (values of each node in sample)\n",
    "    for i in range(n):\n",
    "        if evidence[i] != -1: # if eviuence variable\n",
    "            value[i] = evidence[i] # fix evidence\n",
    "        else: # initialize other variables randomly (is not an evidence variable) \n",
    "            if np.random.random() < 0.5:\n",
    "                value[i] = True\n",
    "            else:\n",
    "                value[i] = False\n",
    "    for i in range(10000):\n",
    "        new_value = [-1] * n\n",
    "        for vertex in sort_vertex: # for i=1, 2, …, n in topological order \n",
    "            if evidence[vertex] == -1: # Choose a non-evidence variable X\n",
    "                value[vertex] = -1 # Resample X from P(X | all other variables)\n",
    "                value[vertex] = sample_vertex(vertex, graph2[vertex], value, sort_vertex, probability)\n",
    "                new_value[vertex] = value[vertex]\n",
    "            else: # if eviuence variable\n",
    "                new_value[vertex] = value[vertex]\n",
    "        samples.append(new_value) # add sample to samples\n",
    "    \n",
    "    good_sample = 0 # number of consistent samples\n",
    "    for sample in samples:\n",
    "        flag = 1\n",
    "        for i in range(len(nodes)): # check if sample is consistent with query\n",
    "            if bool(values[i]) != sample[nodes[i]]: # values = query values\n",
    "                flag = 0\n",
    "                break\n",
    "        if flag == 1:\n",
    "            good_sample += 1\n",
    "    return good_sample / len(samples)"
   ]
  },
  {
   "cell_type": "markdown",
   "metadata": {
    "collapsed": false,
    "pycharm": {
     "name": "#%% md\n"
    }
   },
   "source": [
    "## Execution"
   ]
  },
  {
   "cell_type": "code",
   "execution_count": 19,
   "metadata": {
    "collapsed": false,
    "pycharm": {
     "name": "#%%\n"
    }
   },
   "outputs": [
    {
     "name": "stdout",
     "output_type": "stream",
     "text": [
      "File Already Exist!\n"
     ]
    }
   ],
   "source": [
    "try:\n",
    "    os.mkdir(OUT_PATH)\n",
    "except OSError as error:\n",
    "    print(\"File Already Exist!\")\n",
    "\n",
    "length = len([name for name in os.listdir(IN_PATH)])"
   ]
  },
  {
   "cell_type": "code",
   "execution_count": 20,
   "metadata": {
    "collapsed": false,
    "pycharm": {
     "name": "#%%\n"
    }
   },
   "outputs": [
    {
     "data": {
      "image/png": "[encoded data removed]",
      "text/plain": [
       "<Figure size 432x288 with 1 Axes>"
      ]
     },
     "metadata": {
      "needs_background": "light"
     },
     "output_type": "display_data"
    },
    {
     "data": {
      "image/png": "[encoded data removed]",
      "text/plain": [
       "<Figure size 432x288 with 1 Axes>"
      ]
     },
     "metadata": {
      "needs_background": "light"
     },
     "output_type": "display_data"
    },
    {
     "data": {
      "image/png": "[encoded data removed]",
      "text/plain": [
       "<Figure size 432x288 with 1 Axes>"
      ]
     },
     "metadata": {
      "needs_background": "light"
     },
     "output_type": "display_data"
    }
   ],
   "source": [
    "for o in range(1, length + 1): # 1 to 3 (lenght = 3)\n",
    "    path = os.path.join(IN_PATH, str(o) + \"\\input.txt\") # inputs\\1\\input.txt\n",
    "    file = open(path, 'r')\n",
    "    n = int(file.readline()) # num of nodes\n",
    "    names = {} # names[\"A\"] = 0\n",
    "    probability = [] # array of CPTs (probability[0] = CPT of A) (all distributions)\n",
    "    graph3 = [] # node --> parents (graph3[0] = [\"B\", \"C\"])\n",
    "    graph2 = [] # node --> parents (graph2[0] = [1, 2])\n",
    "    graph1 = [] # node --> children (graph1[0] = [1, 2])\n",
    "    for i in range(n):\n",
    "        graph1.append([])\n",
    "        graph2.append([])\n",
    "        graph3.append([])\n",
    "    for i in range(n):\n",
    "        data = file.readline()\n",
    "        data = data.strip('\\n') # remove\n",
    "        data = data.rstrip() # \"A\"\n",
    "        names[data] = i # names[\"A\"] = 0\n",
    "        data = file.readline()\n",
    "        data = data.strip('\\n')\n",
    "        data = data.rstrip()\n",
    "        if 47 < ord(data[0]) < 58: # if data[0] is a number\n",
    "            cpt = []\n",
    "            row = {i: True, 'Prob': float(data)} # {0: True, 'Prob': 0.2}\n",
    "            cpt.append(row)\n",
    "            row = {i: False, 'Prob': 1 - float(data)} # {0: False, 'Prob': 0.8}\n",
    "            cpt.append(row) \n",
    "            probability.append(cpt) # probability[0] = [{0: True, 'Prob': 0.2}, {0: False, 'Prob': 0.8}]\n",
    "        else: # if data[0] is a letter\n",
    "            parents = [x for x in data.split(\" \")] # [\"B\", \"C\"]\n",
    "            for parent in parents:\n",
    "                graph3[i].append(parent) # graph3[0] = [\"B\", \"C\"]\n",
    "            cpt = []\n",
    "            for j in range(2 ** (len(parents))): # 2 ** 2 = 4\n",
    "                read = file.readline()\n",
    "                read = read.strip('\\n') # \"0 0 0.999    \\n\"\n",
    "                read = read.rstrip() # \"0 0 0.999     \"\n",
    "                data = [float(x) for x in read.split(\" \")] # [0, 0, 0.999]\n",
    "                row = {i: True, 'Prob': data[len(data) - 1]}\n",
    "                for k in range(len(parents)):\n",
    "                    row[parents[k]] = bool(data[k]) # {0: True, 'Prob': 0.999, 'B': False, 'C': False}\n",
    "                cpt.append(row) # cpt[0] = {0: True, 'Prob': 0.999, 'B': False, 'C': False}\n",
    "                row2 = row.copy()\n",
    "                row2[i] = False\n",
    "                row2['Prob'] = 1 - row2[\"Prob\"] # {0: False, 'Prob': 0.001, 'B': False, 'C': False}\n",
    "                cpt.append(row2) # array of 8 rows(objects)\n",
    "            probability.append(cpt) # probability[0] = [{0: True, 'Prob': 0.999, 'B': False, 'C': False}, {0: False, 'Prob': 0.001, 'B': False, 'C': False}, {0: True, 'Prob': 0.999, 'B': False, 'C': True}, {0: False, 'Prob': 0.001, 'B': False, 'C': True}, {0: True, 'Prob': 0.999, 'B': True, 'C': False}, {0: False, 'Prob': 0.001, 'B': True, 'C': False}, {0: True, 'Prob': 0.999, 'B': True, 'C': True}, {0: False, 'Prob': 0.001, 'B': True, 'C': True}]\n",
    "\n",
    "    for i in range(n):\n",
    "        for node in graph3[i]:  # node = \"B\" or \"C\" (parents) (graph3[0] = [\"B\", \"C\"])\n",
    "            graph1[names[node]].append(i) # graph1[0] = [1, 2] (parent --> child)\n",
    "            graph2[i].append(names[node]) # graph2[0] = [1, 2] (child --> parent)\n",
    "\n",
    "    new_probability = [] \n",
    "    for cpt in probability: # cpt = probability[0] = [{0: True, 'Prob': 0.999, 'B': False, 'C': False}, {0: False, 'Prob': 0.001, 'B': False, 'C': False}, {0: True, 'Prob': 0.999, 'B': False, 'C': True}, {0: False, 'Prob': 0.001, 'B': False, 'C': True}, {0: True, 'Prob': 0.999, 'B': True, 'C': False}, {0: False, 'Prob': 0.001, 'B': True, 'C': False}, {0: True, 'Prob': 0.999, 'B': True, 'C': True}, {0: False, 'Prob': 0.001, 'B': True, 'C': True}]\n",
    "        new_cpt = []\n",
    "        for row in cpt: # (0 : \"A\") cpt[0] = row = {0: True, 'Prob': 0.999, 'B': False, 'C': False}\n",
    "            new_row = {}\n",
    "            for key in row.keys():\n",
    "                if key in names.keys():\n",
    "                    new_row[names[key]] = row[key]\n",
    "                else:\n",
    "                    new_row[key] = row[key]\n",
    "            new_cpt.append(new_row) # {0: True, 'Prob': 0.999, 1: False, 2: False} = new_cpt[0] = new_row\n",
    "        new_probability.append(new_cpt) # new_probability[0] = [{0: True, 'Prob': 0.999, 1: False, 2: False}, {0: False, 'Prob': 0.001, 1: False, 2: False}, {0: True, 'Prob': 0.999, 1: False, 2: True}, {0: False, 'Prob': 0.001, 1: False, 2: True}, {0: True, 'Prob': 0.999, 1: True, 2: False}, {0: False, 'Prob': 0.001, 1: True, 2: False}, {0: True, 'Prob': 0.999, 1: True, 2: True}, {0: False, 'Prob': 0.001, 1: True, 2: True}]\n",
    "\n",
    "    file.close()\n",
    "\n",
    "    path = os.path.join(IN_PATH, str(o) + \"\\q_input.txt\")\n",
    "    file = open(path, 'r')\n",
    "    data = file.readline()\n",
    "    x = json.loads(data) # [[{\"A\": 0 }, {}],[{\"C\": 1}, {\"A\":1 , \"B\": 1}]]\n",
    "\n",
    "    result_string = \"\"\n",
    "\n",
    "    prior = [] # array of absolute errors \n",
    "    reject = []\n",
    "    likelihood = []\n",
    "    gibbs = []\n",
    "\n",
    "    for query in x: # query = [{\"A\": 0 }, {}] or [{\"C\": 1}, {\"A\":1 , \"B\": 1}]\n",
    "        node_data = query[0] # node_data = {\"A\": 0} or {\"C\": 1}\n",
    "        evidence_data = query[1] # evidence_data = {\"A\": 1, \"B\": 1}\n",
    "        evidence = [-1] * n\n",
    "        nodes = [] # nodes that we want to know the value of (query)\n",
    "        values = [] # values of nodes that we want to know the value of (query value = 1 or 0)\n",
    "        for key in evidence_data.keys():\n",
    "            evidence[names[key]] = bool(evidence_data[key]) # evidence = [True, True, False] # evidence[0] = \"A\" = True\n",
    "        for key in node_data.keys():\n",
    "            nodes.append(names[key]) # nodes = [2] # nodes[0] = 2 (C)\n",
    "            values.append(node_data[key]) # values = [1] # values[0] = 1 (True) (assume for C)\n",
    "\n",
    "        # nodes -> query variable(s) P(query(nodes) | evidence)\n",
    "        result_real = real_value(evidence, new_probability.copy(), nodes, values, graph2) # exact inference (real value)\n",
    "        # approximate inferences\n",
    "        result_prior_sample = prior_sample(evidence, nodes, values, new_probability, n, graph1, graph2) # prior sampling\n",
    "        result_rejection_sample = rejection_sample(evidence, nodes, values, new_probability, n, graph1, graph2) # rejection sampling\n",
    "        result_likelihood_sample = likelihood_sample(evidence, nodes, values, new_probability, n, graph1, graph2) # likelihood weighting\n",
    "        result_gibbs_sample = gibbs_sample(evidence, nodes, values, new_probability, n, graph1, graph2) # gibbs sampling\n",
    "\n",
    "        ae_prior = abs(result_prior_sample - result_real) # absolute error\n",
    "        ae_rejection = abs(result_rejection_sample - result_real)\n",
    "        ae_likelihood = abs(result_likelihood_sample - result_real)\n",
    "        ae_gibbs = abs(result_gibbs_sample - result_real)\n",
    "\n",
    "        result_string += str(result_real) + \" \" + str(ae_prior) + \" \" + str(ae_rejection) + \" \" + str(ae_likelihood) + \" \" + str(ae_gibbs) + \"\\n\"\n",
    "\n",
    "        prior.append(ae_prior)\n",
    "        reject.append(ae_rejection)\n",
    "        likelihood.append(ae_likelihood)\n",
    "        gibbs.append(ae_gibbs)\n",
    "\n",
    "    file.close()\n",
    "\n",
    "    path = os.path.join(OUT_PATH, str(o) + \".txt\")\n",
    "    file = open(path, 'w')\n",
    "    file.write(result_string)\n",
    "    file.close()\n",
    "\n",
    "    draw_plot(prior, reject, likelihood, gibbs, \"Graph\" + str(o), o)"
   ]
  }
 ],
 "metadata": {
  "colab": {
   "provenance": []
  },
  "kernelspec": {
   "display_name": "base",
   "language": "python",
   "name": "python3"
  },
  "language_info": {
   "codemirror_mode": {
    "name": "ipython",
    "version": 3
   },
   "file_extension": ".py",
   "mimetype": "text/x-python",
   "name": "python",
   "nbconvert_exporter": "python",
   "pygments_lexer": "ipython3",
   "version": "3.8.3"
  },
  "vscode": {
   "interpreter": {
    "hash": "49cb93f377a7abe7414b7b0f21fb3017538004a126cf690fb524202736b7fb92"
   }
  }
 },
 "nbformat": 4,
 "nbformat_minor": 0
}
